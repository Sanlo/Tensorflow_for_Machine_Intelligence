{
 "cells": [
  {
   "cell_type": "code",
   "execution_count": null,
   "metadata": {
    "collapsed": true
   },
   "outputs": [],
   "source": [
    "import tensorflow as tf"
   ]
  },
  {
   "cell_type": "code",
   "execution_count": null,
   "metadata": {
    "collapsed": true
   },
   "outputs": [],
   "source": [
    "# a=tf.constant(5,name='input_a')\n",
    "# b=tf.constant(3,name='input_a')\n",
    "# c=tf.multiply(a,b,name='mul_c')\n",
    "# d=tf.add(a,b,name='add_d')\n",
    "# e=tf.add(c,d,name='add_e')\n",
    "\n",
    "# sess=tf.Session()\n",
    "# output=sess.run(e)\n",
    "\n",
    "# writer=tf.summary.FileWriter('./my_graph',sess.graph)\n",
    "\n",
    "# writer.close()\n",
    "# sess.close()"
   ]
  },
  {
   "cell_type": "code",
   "execution_count": null,
   "metadata": {},
   "outputs": [],
   "source": [
    "# Explicitly create a Graph object\n",
    "graph=tf.Graph()\n",
    "\n",
    "with graph.as_default():\n",
    "    \n",
    "    with tf.name_scope('variables'):\n",
    "        global_step=tf.Variable(0,dtype=tf.int32,trainable=False,name='global_step')\n",
    "        total_output=tf.Variable(0.0,dtype=tf.float32,trainable=False,name='total_output')\n",
    "        \n",
    "    # Primary transformation Operations\n",
    "    with tf.name_scope('transformation'):\n",
    "        \n",
    "        # Separate input layer\n",
    "        with tf.name_scope('input'):\n",
    "            a=tf.placeholder(tf.float32,shape=[None],name='input_placeholder_a')\n",
    "            \n",
    "        # Separate middle layer\n",
    "        with tf.name_scope('intermediate_layer'):\n",
    "            b=tf.reduce_prod(a,name='product_b')\n",
    "            c=tf.reduce_sum(a,name='sum_c')\n",
    "            \n",
    "        # Separate output layer\n",
    "        with tf.name_scope('output'):\n",
    "            output=tf.add(b,c,name='output')\n",
    "    \n",
    "    # Update Operations\n",
    "    with tf.name_scope('update'):\n",
    "        update_total=total_output.assign_add(output)\n",
    "        increment_step=global_step.assign_add(1)\n",
    "        \n",
    "    # Summary Operations\n",
    "    with tf.name_scope('sumaries'):\n",
    "        avg=tf.div(update_total,tf.cast(increment_step,tf.float32),name='average')\n",
    "        tf.summary.scalar('output_summary',output)\n",
    "        tf.summary.scalar('total_summary',update_total)\n",
    "        tf.summary.scalar('average_summary',avg)\n",
    "        \n",
    "    # Global Variables and Operations\n",
    "    with tf.name_scope('global_ops'):\n",
    "        init=tf.global_variables_initializer()\n",
    "        merged_summaries=tf.summary.merge_all()\n",
    "      \n",
    "# Start a Session, using the explicitly created Graph\n",
    "sess=tf.Session(graph=graph)\n",
    "\n",
    "# Open a SummaryWriter to save summaries\n",
    "writer=tf.summary.FileWriter('./improved_gragh',graph)\n",
    "\n",
    "# Initialize Variables\n",
    "sess.run(init)\n",
    "\n",
    "def run_graph(input_tensor):\n",
    "    \"\"\"\n",
    "    Helper function; runs the graph with given input tensor and saves summaries\n",
    "    \"\"\"\n",
    "    feed_dict={a:input_tensor}\n",
    "    _,step,summary=sess.run([output,increment_step,merged_summaries],feed_dict=feed_dict)\n",
    "    writer.add_summary(summary,step)\n",
    "\n",
    "\n",
    "# Run the graph with various inputs\n",
    "run_graph([2,8])\n",
    "run_graph([3,1,3,3])\n",
    "run_graph([8])\n",
    "run_graph([1,2,3])\n",
    "run_graph([11,4])\n",
    "run_graph([4,1])\n",
    "run_graph([7,3,1])\n",
    "run_graph([6,3])\n",
    "run_graph([0,2])\n",
    "run_graph([4,5,6])\n",
    "\n",
    "# Write the summaries to disk\n",
    "writer.flush()\n",
    "\n",
    "writer.close()\n",
    "sess.close()"
   ]
  },
  {
   "cell_type": "code",
   "execution_count": null,
   "metadata": {
    "collapsed": true
   },
   "outputs": [],
   "source": []
  }
 ],
 "metadata": {
  "kernelspec": {
   "display_name": "Python 3",
   "language": "python",
   "name": "python3"
  },
  "language_info": {
   "codemirror_mode": {
    "name": "ipython",
    "version": 3
   },
   "file_extension": ".py",
   "mimetype": "text/x-python",
   "name": "python",
   "nbconvert_exporter": "python",
   "pygments_lexer": "ipython3",
   "version": "3.6.3"
  }
 },
 "nbformat": 4,
 "nbformat_minor": 2
}
